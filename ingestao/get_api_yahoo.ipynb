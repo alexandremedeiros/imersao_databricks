{
 "cells": [
  {
   "cell_type": "code",
   "execution_count": 0,
   "metadata": {
    "application/vnd.databricks.v1+cell": {
     "cellMetadata": {
      "byteLimit": 2048000,
      "implicitDf": true,
      "rowLimit": 10000
     },
     "inputWidgets": {},
     "nuid": "080644e4-83b3-4fe4-891c-c85c06dcc86c",
     "showTitle": false,
     "tableResultSettingsMap": {},
     "title": ""
    }
   },
   "outputs": [],
   "source": [
    "%sql\n",
    "-- Volume para zona raw (arquivos JSON)\n",
    "CREATE VOLUME IF NOT EXISTS lakehouse.raw_public.yfinance"
   ]
  },
  {
   "cell_type": "code",
   "execution_count": 0,
   "metadata": {
    "application/vnd.databricks.v1+cell": {
     "cellMetadata": {
      "byteLimit": 2048000,
      "rowLimit": 10000
     },
     "inputWidgets": {},
     "nuid": "85025bb3-f2a7-4891-8873-7a3e8c2d6db7",
     "showTitle": false,
     "tableResultSettingsMap": {},
     "title": ""
    }
   },
   "outputs": [],
   "source": [
    "%pip install yfinance"
   ]
  },
  {
   "cell_type": "code",
   "execution_count": 0,
   "metadata": {
    "application/vnd.databricks.v1+cell": {
     "cellMetadata": {
      "byteLimit": 2048000,
      "rowLimit": 10000
     },
     "inputWidgets": {},
     "nuid": "7a2cf9ac-e994-4e59-9019-828986d07578",
     "showTitle": false,
     "tableResultSettingsMap": {},
     "title": ""
    }
   },
   "outputs": [],
   "source": [
    "dbutils.library.restartPython()"
   ]
  },
  {
   "cell_type": "code",
   "execution_count": 0,
   "metadata": {
    "application/vnd.databricks.v1+cell": {
     "cellMetadata": {
      "byteLimit": 2048000,
      "rowLimit": 10000
     },
     "inputWidgets": {},
     "nuid": "404edde0-b753-4686-8b33-737a27c97262",
     "showTitle": false,
     "tableResultSettingsMap": {},
     "title": ""
    }
   },
   "outputs": [],
   "source": [
    "import yfinance as yf\n",
    "import pandas as pd\n",
    "from datetime import datetime, UTC\n",
    "\n",
    "# Caminho do Volume UC (Raw Zone)\n",
    "RAW_BASE_PATH = \"/Volumes/lakehouse/raw_public/yfinance/commodities/latest_prices\"\n",
    "\n",
    "# Garante que o diretório existe (Databricks)\n",
    "dbutils.fs.mkdirs(RAW_BASE_PATH)\n",
    "\n",
    "def get_commodities_df() -> pd.DataFrame:\n",
    "    \"\"\"\n",
    "    Retorna as últimas cotações (1 minuto) de Ouro, Petróleo e Prata via Yahoo Finance.\n",
    "    \"\"\"\n",
    "    symbols = [\"GC=F\", \"CL=F\", \"SI=F\"]  # Ouro, Petróleo, Prata\n",
    "    dfs = []\n",
    "\n",
    "    for sym in symbols:\n",
    "        try:\n",
    "            # Histórico de 1 dia com intervalo de 1 minuto, pega o último\n",
    "            ultimo_df = yf.Ticker(sym).history(period=\"2d\", interval=\"1m\")[[\"Close\"]].tail(1)\n",
    "            if ultimo_df.empty:\n",
    "                continue\n",
    "\n",
    "            ultimo_df = ultimo_df.rename(columns={\"Close\": \"preco\"})\n",
    "            ultimo_df[\"ativo\"] = sym\n",
    "            ultimo_df[\"moeda\"] = \"USD\"\n",
    "            ultimo_df[\"horario_coleta\"] = datetime.now(UTC).isoformat()\n",
    "            dfs.append(ultimo_df[[\"ativo\", \"preco\", \"moeda\", \"horario_coleta\"]])\n",
    "\n",
    "        except Exception as e:\n",
    "            print(f\"⚠️ Erro ao buscar {sym}: {e}\")\n",
    "\n",
    "    if not dfs:\n",
    "        raise ValueError(\"Nenhuma cotação retornada pelo Yahoo Finance.\")\n",
    "\n",
    "    df = pd.concat(dfs, ignore_index=True)\n",
    "    df[\"source_system\"] = \"yfinance\"\n",
    "    df[\"source_endpoint\"] = \"https://finance.yahoo.com\"\n",
    "    df[\"ingestion_ts_utc\"] = datetime.now(UTC).isoformat()\n",
    "\n",
    "    return df\n",
    "\n",
    "\n",
    "# ===== 1️⃣ Coleta =====\n",
    "df = get_commodities_df()\n",
    "\n",
    "# ===== 2️⃣ Caminho de salvamento =====\n",
    "file_name = f\"{RAW_BASE_PATH}/yfinance_commodities_{datetime.now(UTC).strftime('%Y%m%d_%H%M%S')}.json\"\n",
    "\n",
    "# ===== 3️⃣ Escrita simples em JSON =====\n",
    "df.to_json(file_name, orient=\"records\", lines=True, force_ascii=False)\n",
    "\n",
    "print(f\"✅ JSON salvo em: {file_name}\")"
   ]
  }
 ],
 "metadata": {
  "application/vnd.databricks.v1+notebook": {
   "computePreferences": null,
   "dashboards": [],
   "environmentMetadata": {
    "base_environment": "",
    "environment_version": "4"
   },
   "inputWidgetPreferences": null,
   "language": "python",
   "notebookMetadata": {
    "mostRecentlyExecutedCommandWithImplicitDF": {
     "commandId": 7748671566485239,
     "dataframes": [
      "_sqldf"
     ]
    },
    "pythonIndentUnit": 4
   },
   "notebookName": "get_api_yahoo",
   "widgets": {}
  },
  "language_info": {
   "name": "python"
  }
 },
 "nbformat": 4,
 "nbformat_minor": 0
}
